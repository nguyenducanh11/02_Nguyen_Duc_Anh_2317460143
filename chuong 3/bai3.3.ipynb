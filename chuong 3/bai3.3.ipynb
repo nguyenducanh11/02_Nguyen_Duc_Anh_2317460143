{
 "cells": [
  {
   "cell_type": "code",
   "execution_count": 1,
   "metadata": {},
   "outputs": [
    {
     "name": "stdout",
     "output_type": "stream",
     "text": [
      "[2 2 4 4]\n",
      "[1 3 5 6]\n",
      "[ 6  9 10  8  6]\n"
     ]
    }
   ],
   "source": [
    "import numpy as np\n",
    "arr_a =np.array ([1,2,3,2,3,4,3,4,5,6])\n",
    "arr_b =np.array ([7,2,10,2,7,4,9,4,9,8])\n",
    "#1\n",
    "a=[i for i in arr_a if i in arr_b]\n",
    "arr_c = np.array(a)\n",
    "print(arr_c)\n",
    "#2\n",
    "arr_d = np.array(list(set(arr_a)- set(arr_b)))\n",
    "print(arr_d)\n",
    "#3\n",
    "arr_e = np.array([2, 6, 1, 9, 10, 3, 27, 8, 6, 25, 16])\n",
    "arr_f = np.array([i for i in arr_e if i>=5 and i<=10])\n",
    "print(arr_f)"
   ]
  }
 ],
 "metadata": {
  "kernelspec": {
   "display_name": "Python 3",
   "language": "python",
   "name": "python3"
  },
  "language_info": {
   "codemirror_mode": {
    "name": "ipython",
    "version": 3
   },
   "file_extension": ".py",
   "mimetype": "text/x-python",
   "name": "python",
   "nbconvert_exporter": "python",
   "pygments_lexer": "ipython3",
   "version": "3.6.8"
  }
 },
 "nbformat": 4,
 "nbformat_minor": 2
}
