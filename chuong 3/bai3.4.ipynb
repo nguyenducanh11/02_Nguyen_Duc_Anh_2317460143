{
 "cells": [
  {
   "cell_type": "markdown",
   "metadata": {},
   "source": []
  },
  {
   "cell_type": "code",
   "execution_count": 6,
   "metadata": {},
   "outputs": [
    {
     "name": "stdout",
     "output_type": "stream",
     "text": [
      "[0 0 0 0 1]\n"
     ]
    }
   ],
   "source": [
    "#Phần 1\n",
    "import numpy as np\n",
    "arr_zeros=np.zeros(5,dtype=int)\n",
    "arr_zeros[4]=1\n",
    "print(arr_zeros)"
   ]
  },
  {
   "cell_type": "code",
   "execution_count": 3,
   "metadata": {},
   "outputs": [
    {
     "name": "stdout",
     "output_type": "stream",
     "text": [
      "[24 23 22 21 20 19 18 17 16 15 14 13 12 11 10]\n"
     ]
    }
   ],
   "source": [
    "#Phần 2\n",
    "arr_h=np.arange(10,25)\n",
    "print(arr_h[::-1])"
   ]
  },
  {
   "cell_type": "code",
   "execution_count": 7,
   "metadata": {},
   "outputs": [
    {
     "name": "stdout",
     "output_type": "stream",
     "text": [
      "[1 2 8 2 1 3 5]\n"
     ]
    }
   ],
   "source": [
    "#Phần 3\n",
    "arr_k=np.array([1,2,0,8,2,0,1,3,0,5,0])\n",
    "arr_l=np.array([i for i in arr_k if i!=0])\n",
    "print(arr_l)"
   ]
  },
  {
   "cell_type": "code",
   "execution_count": 14,
   "metadata": {},
   "outputs": [
    {
     "name": "stdout",
     "output_type": "stream",
     "text": [
      "[ 1  2  8  2  1  3  5 10 20]\n"
     ]
    }
   ],
   "source": [
    "#Phần 4\n",
    "arr_4=np.append(arr_l,10)\n",
    "arr_4=np.append(arr_4,20)\n",
    "print(arr_4)"
   ]
  },
  {
   "cell_type": "code",
   "execution_count": 17,
   "metadata": {},
   "outputs": [
    {
     "name": "stdout",
     "output_type": "stream",
     "text": [
      "[  1   2   8   2   1 100   3   5  10  20]\n"
     ]
    }
   ],
   "source": [
    "#Phần 5\n",
    "arr_5=np.insert(arr_4,5,100)\n",
    "print(arr_5)"
   ]
  },
  {
   "cell_type": "code",
   "execution_count": 18,
   "metadata": {},
   "outputs": [
    {
     "name": "stdout",
     "output_type": "stream",
     "text": [
      "[  2   1 100   3   5  10  20]\n"
     ]
    }
   ],
   "source": [
    "#Phần 6\n",
    "arr_6=np.delete(arr_5,[0,1,2])\n",
    "print(arr_6)"
   ]
  }
 ],
 "metadata": {
  "kernelspec": {
   "display_name": "Python 3",
   "language": "python",
   "name": "python3"
  },
  "language_info": {
   "codemirror_mode": {
    "name": "ipython",
    "version": 3
   },
   "file_extension": ".py",
   "mimetype": "text/x-python",
   "name": "python",
   "nbconvert_exporter": "python",
   "pygments_lexer": "ipython3",
   "version": "3.11.5"
  }
 },
 "nbformat": 4,
 "nbformat_minor": 2
}
